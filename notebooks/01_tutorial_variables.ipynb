{
 "cells": [
  {
   "cell_type": "markdown",
   "id": "e1a40352",
   "metadata": {},
   "source": [
    "# Tutorial de Variables en Python 🐍\n",
    "\n",
    "En este tutorial aprenderás:\n",
    "- Qué son las variables\n",
    "- Tipos de datos básicos\n",
    "- Cómo crear y usar variables\n",
    "- Operaciones básicas con variables\n",
    "- Buenas prácticas para nombrar variables\n",
    "\n",
    "¡Empezamos!"
   ]
  },
  {
   "cell_type": "markdown",
   "id": "8b41d44f",
   "metadata": {},
   "source": [
    "## ¿Qué es una variable? 📦\n",
    "\n",
    "Una **variable** es como una caja que puede almacenar información. Le damos un nombre a esa caja para poder encontrarla y usar la información que contiene.\n",
    "\n",
    "En Python, crear una variable es muy fácil:\n",
    "```python\n",
    "nombre_de_variable = valor\n",
    "```\n",
    "\n",
    "No necesitas declarar el tipo de variable, Python lo descubre automáticamente."
   ]
  },
  {
   "cell_type": "markdown",
   "id": "936c1468",
   "metadata": {},
   "source": [
    "## Tipos de datos básicos 📊\n",
    "\n",
    "Python tiene varios tipos de datos principales:\n",
    "\n",
    "- **Enteros (int)**: Números enteros como 1, 2, 100\n",
    "- **Decimales (float)**: Números con decimales como 3.14, 2.5\n",
    "- **Texto (str)**: Cadenas de texto como \"Hola\", \"Python\"\n",
    "- **Booleanos (bool)**: Verdadero o Falso (True/False)\n",
    "\n",
    "¡Vamos a verlos en acción!"
   ]
  },
  {
   "cell_type": "code",
   "execution_count": 1,
   "id": "17d58807",
   "metadata": {},
   "outputs": [
    {
     "name": "stdout",
     "output_type": "stream",
     "text": [
      "Mi edad es: 25\n",
      "Tengo 10 libros\n",
      "La temperatura es: -5 grados\n",
      "\n",
      "Tipo de dato de 'edad': <class 'int'>\n"
     ]
    }
   ],
   "source": [
    "# Ejemplos de variables numéricas\n",
    "\n",
    "# Números enteros\n",
    "edad = 25\n",
    "cantidad_libros = 10\n",
    "temperatura = -5\n",
    "\n",
    "print(\"Mi edad es:\", edad)\n",
    "print(\"Tengo\", cantidad_libros, \"libros\")\n",
    "print(\"La temperatura es:\", temperatura, \"grados\")\n",
    "\n",
    "# Veamos el tipo de dato\n",
    "print(\"\\nTipo de dato de 'edad':\", type(edad))"
   ]
  },
  {
   "cell_type": "code",
   "execution_count": null,
   "id": "50bece24",
   "metadata": {},
   "outputs": [],
   "source": [
    "# Ejemplos de números decimales (float)\n",
    "\n",
    "precio = 19.99\n",
    "altura = 1.75\n",
    "pi = 3.14159\n",
    "\n",
    "print(\"El precio es:\", precio, \"euros\")\n",
    "print(\"Mi altura es:\", altura, \"metros\")\n",
    "print(\"El valor de pi es aproximadamente:\", pi)\n",
    "\n",
    "# Veamos el tipo de dato\n",
    "print(\"\\nTipo de dato de 'precio':\", type(precio))"
   ]
  },
  {
   "cell_type": "code",
   "execution_count": null,
   "id": "f8956ec0",
   "metadata": {},
   "outputs": [],
   "source": [
    "# Ejemplos de texto (strings)\n",
    "\n",
    "nombre = \"María\"\n",
    "apellido = \"García\"\n",
    "ciudad = \"Barcelona\"\n",
    "frase = \"¡Hola mundo!\"\n",
    "\n",
    "print(\"Mi nombre es:\", nombre)\n",
    "print(\"Mi apellido es:\", apellido)\n",
    "print(\"Vivo en:\", ciudad)\n",
    "print(frase)\n",
    "\n",
    "# También podemos usar comillas simples\n",
    "hobby = 'programar'\n",
    "print(\"Mi hobby favorito es:\", hobby)\n",
    "\n",
    "# Veamos el tipo de dato\n",
    "print(\"\\nTipo de dato de 'nombre':\", type(nombre))"
   ]
  },
  {
   "cell_type": "code",
   "execution_count": null,
   "id": "a4cd6727",
   "metadata": {},
   "outputs": [],
   "source": [
    "# Ejemplos de booleanos (True/False)\n",
    "\n",
    "es_estudiante = True\n",
    "tiene_trabajo = False\n",
    "mayor_de_edad = True\n",
    "\n",
    "print(\"¿Es estudiante?\", es_estudiante)\n",
    "print(\"¿Tiene trabajo?\", tiene_trabajo)\n",
    "print(\"¿Es mayor de edad?\", mayor_de_edad)\n",
    "\n",
    "# Veamos el tipo de dato\n",
    "print(\"\\nTipo de dato de 'es_estudiante':\", type(es_estudiante))"
   ]
  },
  {
   "cell_type": "markdown",
   "id": "b4955245",
   "metadata": {},
   "source": [
    "## Operaciones básicas con variables ➕➖✖️➗\n",
    "\n",
    "Podemos realizar operaciones matemáticas con variables numéricas:\n",
    "- **Suma**: `+`\n",
    "- **Resta**: `-` \n",
    "- **Multiplicación**: `*`\n",
    "- **División**: `/`\n",
    "- **División entera**: `//`\n",
    "- **Resto/Módulo**: `%`\n",
    "- **Potencia**: `**`"
   ]
  },
  {
   "cell_type": "code",
   "execution_count": null,
   "id": "b33a32c2",
   "metadata": {},
   "outputs": [],
   "source": [
    "# Operaciones matemáticas básicas\n",
    "\n",
    "a = 10\n",
    "b = 3\n",
    "\n",
    "print(\"Variables:\")\n",
    "print(\"a =\", a)\n",
    "print(\"b =\", b)\n",
    "print()\n",
    "\n",
    "print(\"Operaciones:\")\n",
    "print(\"a + b =\", a + b)  # Suma\n",
    "print(\"a - b =\", a - b)  # Resta\n",
    "print(\"a * b =\", a * b)  # Multiplicación\n",
    "print(\"a / b =\", a / b)  # División\n",
    "print(\"a // b =\", a // b)  # División entera\n",
    "print(\"a % b =\", a % b)  # Resto\n",
    "print(\"a ** b =\", a ** b)  # Potencia"
   ]
  },
  {
   "cell_type": "markdown",
   "id": "0229533d",
   "metadata": {},
   "source": [
    "## Buenas prácticas para nombrar variables ✅\n",
    "\n",
    "**Reglas obligatorias:**\n",
    "- Solo letras, números y guión bajo (_)\n",
    "- No puede empezar con un número\n",
    "- No usar palabras reservadas de Python\n",
    "\n",
    "**Recomendaciones:**\n",
    "- Usar nombres descriptivos: `edad` en vez de `e`\n",
    "- Usar snake_case: `nombre_completo` en vez de `nombreCompleto`\n",
    "- En inglés para código profesional\n",
    "- Constantes en MAYÚSCULAS: `PI = 3.14159`"
   ]
  },
  {
   "cell_type": "code",
   "execution_count": null,
   "id": "a5fb32de",
   "metadata": {},
   "outputs": [],
   "source": [
    "# Ejemplos de buenos y malos nombres de variables\n",
    "\n",
    "# ✅ Buenos nombres (descriptivos y claros)\n",
    "nombre_usuario = \"Ana\"\n",
    "edad_actual = 28\n",
    "precio_producto = 15.99\n",
    "es_activo = True\n",
    "\n",
    "# ❌ Malos nombres (poco descriptivos)\n",
    "# n = \"Ana\"          # ¿Qué es 'n'?\n",
    "# x = 28             # ¿Qué representa 'x'?\n",
    "# p = 15.99          # ¿Precio? ¿Peso? ¿Puntos?\n",
    "\n",
    "print(\"Usuario:\", nombre_usuario)\n",
    "print(\"Edad:\", edad_actual)\n",
    "print(\"Precio: €\", precio_producto)\n",
    "print(\"¿Está activo?\", es_activo)"
   ]
  },
  {
   "cell_type": "markdown",
   "id": "3e1ed137",
   "metadata": {},
   "source": [
    "## Listas (List) 📝\n",
    "\n",
    "Las **listas** son colecciones ordenadas de elementos que pueden contener diferentes tipos de datos.\n",
    "- Se escriben entre corchetes `[]`\n",
    "- Los elementos se separan por comas\n",
    "- Pueden contener números, texto, booleanos, incluso otras listas\n",
    "- Son **mutables** (se pueden modificar después de crearlas)"
   ]
  },
  {
   "cell_type": "code",
   "execution_count": 2,
   "id": "ef3e12a8",
   "metadata": {},
   "outputs": [
    {
     "name": "stdout",
     "output_type": "stream",
     "text": [
      "Lista de números: [1, 2, 3, 4, 5]\n",
      "Lista de nombres: ['Ana', 'Carlos', 'María', 'Luis']\n",
      "Datos mixtos: ['Juan', 30, True, 1.75]\n",
      "Lista vacía: []\n",
      "\n",
      "Accediendo a elementos:\n",
      "Primer nombre: Ana\n",
      "Segundo nombre: Carlos\n",
      "Último nombre: Luis\n"
     ]
    }
   ],
   "source": [
    "# Ejemplos de listas\n",
    "\n",
    "# Lista de números\n",
    "numeros = [1, 2, 3, 4, 5]\n",
    "print(\"Lista de números:\", numeros)\n",
    "\n",
    "# Lista de nombres\n",
    "nombres = [\"Ana\", \"Carlos\", \"María\", \"Luis\"]\n",
    "print(\"Lista de nombres:\", nombres)\n",
    "\n",
    "# Lista mixta (diferentes tipos de datos)\n",
    "datos_persona = [\"Juan\", 30, True, 1.75]\n",
    "print(\"Datos mixtos:\", datos_persona)\n",
    "\n",
    "# Lista vacía\n",
    "lista_vacia = []\n",
    "print(\"Lista vacía:\", lista_vacia)\n",
    "\n",
    "# Acceder a elementos por índice (empezando desde 0)\n",
    "print(\"\\nAccediendo a elementos:\")\n",
    "print(\"Primer nombre:\", nombres[0])\n",
    "print(\"Segundo nombre:\", nombres[1])\n",
    "print(\"Último nombre:\", nombres[-1])  # -1 es el último elemento"
   ]
  },
  {
   "cell_type": "code",
   "execution_count": null,
   "id": "30deebfe",
   "metadata": {},
   "outputs": [],
   "source": [
    "# Operaciones básicas con listas\n",
    "\n",
    "frutas = [\"manzana\", \"banana\", \"naranja\"]\n",
    "print(\"Lista inicial:\", frutas)\n",
    "\n",
    "# Agregar elementos\n",
    "frutas.append(\"uva\")  # Agrega al final\n",
    "print(\"Después de append:\", frutas)\n",
    "\n",
    "frutas.insert(1, \"fresa\")  # Inserta en posición específica\n",
    "print(\"Después de insert:\", frutas)\n",
    "\n",
    "# Eliminar elementos\n",
    "frutas.remove(\"banana\")  # Elimina el primer elemento que coincida\n",
    "print(\"Después de remove:\", frutas)\n",
    "\n",
    "elemento_eliminado = frutas.pop()  # Elimina y retorna el último\n",
    "print(\"Elemento eliminado:\", elemento_eliminado)\n",
    "print(\"Lista final:\", frutas)\n",
    "\n",
    "# Longitud de la lista\n",
    "print(\"Número de frutas:\", len(frutas))\n",
    "\n",
    "# Verificar si un elemento está en la lista\n",
    "print(\"¿Está 'manzana' en la lista?\", \"manzana\" in frutas)"
   ]
  },
  {
   "cell_type": "markdown",
   "id": "0fff8f79",
   "metadata": {},
   "source": [
    "## Diccionarios (Dict) 🗂️\n",
    "\n",
    "Los **diccionarios** son colecciones de pares clave-valor.\n",
    "- Se escriben entre llaves `{}`\n",
    "- Cada elemento tiene una **clave** y un **valor**: `\"clave\": valor`\n",
    "- Las claves deben ser únicas\n",
    "- Son **mutables** (se pueden modificar)\n",
    "- Perfectos para almacenar información relacionada"
   ]
  },
  {
   "cell_type": "code",
   "execution_count": 3,
   "id": "bcf416b5",
   "metadata": {},
   "outputs": [
    {
     "name": "stdout",
     "output_type": "stream",
     "text": [
      "Información de la persona: {'nombre': 'Ana', 'edad': 28, 'ciudad': 'Madrid', 'es_estudiante': True}\n",
      "Precios de frutas: {'manzana': 1.2, 'banana': 0.8, 'naranja': 1.5, 'uva': 2.0}\n",
      "\n",
      "Accediendo a valores:\n",
      "Nombre: Ana\n",
      "Edad: 28\n",
      "Precio de manzana: € 1.2\n",
      "Altura: No especificada\n",
      "\n",
      "Tipo de dato: <class 'dict'>\n"
     ]
    }
   ],
   "source": [
    "# Ejemplos de diccionarios\n",
    "\n",
    "# Diccionario de información personal\n",
    "persona = {\n",
    "    \"nombre\": \"Ana\",\n",
    "    \"edad\": 28,\n",
    "    \"ciudad\": \"Madrid\",\n",
    "    \"es_estudiante\": True\n",
    "}\n",
    "print(\"Información de la persona:\", persona)\n",
    "\n",
    "# Diccionario de precios\n",
    "precios = {\n",
    "    \"manzana\": 1.20,\n",
    "    \"banana\": 0.80,\n",
    "    \"naranja\": 1.50,\n",
    "    \"uva\": 2.00\n",
    "}\n",
    "print(\"Precios de frutas:\", precios)\n",
    "\n",
    "# Acceder a valores usando las claves\n",
    "print(\"\\nAccediendo a valores:\")\n",
    "print(\"Nombre:\", persona[\"nombre\"])\n",
    "print(\"Edad:\", persona[\"edad\"])\n",
    "print(\"Precio de manzana: €\", precios[\"manzana\"])\n",
    "\n",
    "# Método get() es más seguro (no da error si la clave no existe)\n",
    "print(\"Altura:\", persona.get(\"altura\", \"No especificada\"))\n",
    "\n",
    "# Ver el tipo de dato\n",
    "print(\"\\nTipo de dato:\", type(persona))"
   ]
  },
  {
   "cell_type": "code",
   "execution_count": null,
   "id": "6fd91d57",
   "metadata": {},
   "outputs": [],
   "source": [
    "# Operaciones básicas con diccionarios\n",
    "\n",
    "# Crear un diccionario y modificarlo\n",
    "estudiante = {\n",
    "    \"nombre\": \"Carlos\",\n",
    "    \"edad\": 22,\n",
    "    \"carrera\": \"Informática\"\n",
    "}\n",
    "print(\"Estudiante inicial:\", estudiante)\n",
    "\n",
    "# Agregar nuevas claves\n",
    "estudiante[\"email\"] = \"carlos@email.com\"\n",
    "estudiante[\"año\"] = 3\n",
    "print(\"Después de agregar datos:\", estudiante)\n",
    "\n",
    "# Modificar valores existentes\n",
    "estudiante[\"edad\"] = 23\n",
    "print(\"Después de cumplir años:\", estudiante)\n",
    "\n",
    "# Eliminar elementos\n",
    "del estudiante[\"año\"]  # Elimina la clave y el valor\n",
    "print(\"Después de eliminar 'año':\", estudiante)\n",
    "\n",
    "# Métodos útiles\n",
    "print(\"\\nMétodos útiles:\")\n",
    "print(\"Todas las claves:\", list(estudiante.keys()))\n",
    "print(\"Todos los valores:\", list(estudiante.values()))\n",
    "print(\"Pares clave-valor:\", list(estudiante.items()))\n",
    "\n",
    "# Verificar si existe una clave\n",
    "print(\"¿Tiene email?\", \"email\" in estudiante)\n",
    "print(\"¿Tiene teléfono?\", \"teléfono\" in estudiante)"
   ]
  },
  {
   "cell_type": "markdown",
   "id": "4fc1a9eb",
   "metadata": {},
   "source": [
    "## 🏋️ Ejercicios Prácticos\n",
    "\n",
    "¡Es hora de practicar! Resuelve estos ejercicios para reforzar lo aprendido.\n",
    "Crea el código en las celdas siguientes."
   ]
  },
  {
   "cell_type": "markdown",
   "id": "db8b3a13",
   "metadata": {},
   "source": [
    "### Ejercicio 1: Variables Básicas 🎯\n",
    "\n",
    "Crea variables para almacenar la siguiente información sobre ti:\n",
    "- Tu nombre (string)\n",
    "- Tu edad (int)\n",
    "- Tu altura en metros (float)  \n",
    "- Si eres estudiante o no (bool)\n",
    "\n",
    "Luego, muestra toda la información usando `print()`."
   ]
  },
  {
   "cell_type": "code",
   "execution_count": null,
   "id": "0931e2ca",
   "metadata": {},
   "outputs": [],
   "source": [
    "# Ejercicio 1 - Escribe tu solución aquí\n",
    "\n",
    "# Tu código aquí..."
   ]
  },
  {
   "cell_type": "markdown",
   "id": "b428e0b0",
   "metadata": {},
   "source": [
    "### Ejercicio 2: Calculadora Simple 🧮\n",
    "\n",
    "Crea dos variables con números de tu elección y realiza las siguientes operaciones:\n",
    "- Suma\n",
    "- Resta  \n",
    "- Multiplicación\n",
    "- División\n",
    "- Potencia (primer número elevado al segundo)\n",
    "\n",
    "Muestra cada resultado con un mensaje descriptivo."
   ]
  },
  {
   "cell_type": "code",
   "execution_count": null,
   "id": "91af54fa",
   "metadata": {},
   "outputs": [],
   "source": [
    "# Ejercicio 2 - Escribe tu solución aquí\n",
    "\n",
    "# Tu código aquí..."
   ]
  },
  {
   "cell_type": "markdown",
   "id": "2548324e",
   "metadata": {},
   "source": [
    "### Ejercicio 3: Lista de Compras 🛒\n",
    "\n",
    "1. Crea una lista vacía llamada `lista_compras`\n",
    "2. Agrega 5 productos que necesites comprar\n",
    "3. Muestra la lista completa\n",
    "4. Agrega 2 productos más al final\n",
    "5. Elimina el primer producto de la lista\n",
    "6. Muestra cuántos productos hay en total\n",
    "7. Verifica si \"leche\" está en tu lista de compras"
   ]
  },
  {
   "cell_type": "code",
   "execution_count": null,
   "id": "6af4a7a6",
   "metadata": {},
   "outputs": [],
   "source": [
    "# Ejercicio 3 - Escribe tu solución aquí\n",
    "\n",
    "# Tu código aquí..."
   ]
  },
  {
   "cell_type": "markdown",
   "id": "b550437f",
   "metadata": {},
   "source": [
    "### Ejercicio 4: Perfil de Usuario 👤\n",
    "\n",
    "1. Crea un diccionario llamado `mi_perfil` con la siguiente información:\n",
    "   - nombre\n",
    "   - edad\n",
    "   - ciudad\n",
    "   - hobbies (como una lista)\n",
    "   - tiene_mascota (boolean)\n",
    "   \n",
    "2. Muestra toda la información del perfil\n",
    "3. Agrega una nueva clave \"trabajo\" con tu ocupación\n",
    "4. Cambia tu edad (suma 1 año)\n",
    "5. Agrega un nuevo hobby a la lista de hobbies\n",
    "6. Muestra solo las claves del diccionario\n",
    "7. Muestra solo los valores del diccionario"
   ]
  },
  {
   "cell_type": "code",
   "execution_count": null,
   "id": "909c297b",
   "metadata": {},
   "outputs": [],
   "source": [
    "# Ejercicio 4 - Escribe tu solución aquí\n",
    "\n",
    "# Tu código aquí..."
   ]
  },
  {
   "cell_type": "markdown",
   "id": "095166b8",
   "metadata": {},
   "source": [
    "### Ejercicio 5: Desafío - Registro de Estudiantes 🎓\n",
    "\n",
    "¡Este es un ejercicio más avanzado que combina todo lo aprendido!\n",
    "\n",
    "Crea un programa que gestione información de estudiantes:\n",
    "\n",
    "1. Crea una lista llamada `estudiantes` que contenga diccionarios\n",
    "2. Cada diccionario debe representar un estudiante con:\n",
    "   - nombre\n",
    "   - edad  \n",
    "   - materias (lista de strings)\n",
    "   - promedio (float)\n",
    "   - es_becario (boolean)\n",
    "   \n",
    "3. Agrega al menos 3 estudiantes diferentes\n",
    "4. Muestra la información de todos los estudiantes\n",
    "5. Calcula y muestra la edad promedio de todos los estudiantes\n",
    "6. Cuenta cuántos estudiantes son becarios"
   ]
  },
  {
   "cell_type": "code",
   "execution_count": null,
   "id": "47ace5fb",
   "metadata": {},
   "outputs": [],
   "source": [
    "# Ejercicio 5 - Escribe tu solución aquí\n",
    "\n",
    "# Tu código aquí..."
   ]
  },
  {
   "cell_type": "markdown",
   "id": "4bca5787",
   "metadata": {},
   "source": [
    "---\n",
    "\n",
    "## 💡 Soluciones de los Ejercicios\n",
    "\n",
    "¡Intenta resolver los ejercicios por tu cuenta primero! \n",
    "Después puedes revisar estas soluciones para comparar y aprender."
   ]
  },
  {
   "cell_type": "code",
   "execution_count": 4,
   "id": "825a473f",
   "metadata": {},
   "outputs": [
    {
     "name": "stdout",
     "output_type": "stream",
     "text": [
      "=== Mi información personal ===\n",
      "Nombre: Ana García\n",
      "Edad: 25 años\n",
      "Altura: 1.65 metros\n",
      "¿Soy estudiante? True\n",
      "\n",
      "=== Tipos de datos ===\n",
      "Tipo de nombre: <class 'str'>\n",
      "Tipo de edad: <class 'int'>\n",
      "Tipo de altura: <class 'float'>\n",
      "Tipo de estudiante: <class 'bool'>\n"
     ]
    }
   ],
   "source": [
    "# Solución Ejercicio 1: Variables Básicas\n",
    "\n",
    "# Información personal\n",
    "mi_nombre = \"Ana García\"\n",
    "mi_edad = 25\n",
    "mi_altura = 1.65\n",
    "soy_estudiante = True\n",
    "\n",
    "# Mostrar información\n",
    "print(\"=== Mi información personal ===\")\n",
    "print(f\"Nombre: {mi_nombre}\")\n",
    "print(f\"Edad: {mi_edad} años\")\n",
    "print(f\"Altura: {mi_altura} metros\")\n",
    "print(f\"¿Soy estudiante? {soy_estudiante}\")\n",
    "\n",
    "# Mostrar tipos de datos\n",
    "print(\"\\n=== Tipos de datos ===\")\n",
    "print(f\"Tipo de nombre: {type(mi_nombre)}\")\n",
    "print(f\"Tipo de edad: {type(mi_edad)}\")\n",
    "print(f\"Tipo de altura: {type(mi_altura)}\")\n",
    "print(f\"Tipo de estudiante: {type(soy_estudiante)}\")"
   ]
  }
 ],
 "metadata": {
  "kernelspec": {
   "display_name": "tutorial-python",
   "language": "python",
   "name": "python3"
  },
  "language_info": {
   "codemirror_mode": {
    "name": "ipython",
    "version": 3
   },
   "file_extension": ".py",
   "mimetype": "text/x-python",
   "name": "python",
   "nbconvert_exporter": "python",
   "pygments_lexer": "ipython3",
   "version": "3.13.7"
  }
 },
 "nbformat": 4,
 "nbformat_minor": 5
}
