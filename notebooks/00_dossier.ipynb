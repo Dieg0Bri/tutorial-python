{
 "cells": [
  {
   "cell_type": "markdown",
   "id": "ce02a8f0",
   "metadata": {},
   "source": [
    "# Dossier de Aprendizaje de Python: Fundamentos, Buenas Prácticas, Analytics y Visualización\n",
    "\n",
    "Este dossier resume los contenidos de los cuadernos (variables, funciones, clases, buenas prácticas, analytics y visualización) y los organiza como una guía integral para estudiar y repasar."
   ]
  },
  {
   "cell_type": "markdown",
   "id": "b4bc99f9",
   "metadata": {},
   "source": [
    "## Índice\n",
    "1. Introducción y entorno\n",
    "2. Fundamentos de Python (variables, tipos, listas, dicts)\n",
    "3. Funciones y control de flujo (if/elif/else, for/while)\n",
    "4. Programación Orientada a Objetos (clases, métodos, herencia)\n",
    "5. Buenas prácticas de programación (docstrings, PEP 8, pathlib, .env, errores, estructura, testing)\n",
    "6. Análisis de datos con pandas\n",
    "7. Visualización con matplotlib y seaborn\n",
    "8. Buenas prácticas de visualización (colores, accesibilidad, storytelling, checklist)\n",
    "9. Recursos y próximos pasos"
   ]
  },
  {
   "cell_type": "markdown",
   "id": "e3580784",
   "metadata": {},
   "source": [
    "## 1. Introducción y entorno\n",
    "- Python 3: lenguaje multiparadigma, tipado dinámico.\n",
    "- Entorno recomendado: venv/uv, gestión de dependencias con `pyproject.toml`.\n",
    "- Notebooks Jupyter para aprendizaje interactivo.\n",
    "- Librerías clave: pandas, numpy, matplotlib, seaborn.\n",
    "\n",
    "Ejemplo mínimo de `pyproject.toml` (formateo y estilo):\n",
    "- tool.black: longitud de línea 88.\n",
    "- tool.isort: profile 'black'."
   ]
  },
  {
   "cell_type": "markdown",
   "id": "1c0b9fb5",
   "metadata": {},
   "source": [
    "## 2. Fundamentos de Python\n",
    "Tipos básicos: int, float, str, bool. Estructuras: list, dict, tuple, set.\n",
    "- Variables y buenas nomenclaturas: `snake_case`, nombres descriptivos.\n",
    "- Listas: indexación, slicing, métodos (`append`, `extend`, `sort`).\n",
    "- Diccionarios: claves/valores, `get`, `keys`, `items`.\n",
    "- Mutabilidad y tipado dinámico.\n",
    "\n",
    "Ejemplo breve:\n",
    "- Lista de precios (list + dict).\n",
    "- Cálculo simple con control de errores."
   ]
  },
  {
   "cell_type": "code",
   "execution_count": null,
   "id": "9164a890",
   "metadata": {},
   "outputs": [],
   "source": [
    "# Fundamentos: listas y diccionarios\n",
    "precios = {\"manzana\": 0.8, \"banana\": 0.5, \"pera\": 1.1}\n",
    "compra = [\"manzana\", \"pera\", \"banana\"]\n",
    "total = sum(precios.get(item, 0) for item in compra)\n",
    "print(f'Total: ${total:.2f}')"
   ]
  },
  {
   "cell_type": "markdown",
   "id": "faa08b0c",
   "metadata": {},
   "source": [
    "## 3. Funciones y control de flujo\n",
    "- Definición de funciones, argumentos (posicionales, keyword, default, `*args`, `**kwargs`).\n",
    "- Condicionales `if/elif/else`.\n",
    "- Bucles `for` y `while`, patrones comunes (acumuladores, filtros).\n",
    "- Comprehensions y expresiones generadoras."
   ]
  },
  {
   "cell_type": "code",
   "execution_count": null,
   "id": "31fa1644",
   "metadata": {},
   "outputs": [],
   "source": [
    "def es_aprobado(nota: int) -> bool:\n",
    "    return nota >= 60\n",
    "\n",
    "notas = [45, 70, 85, 55]\n",
    "aprobados = [n for n in notas si := es_aprobado(n)]  # comprensión + función\n",
    "print('Aprobados:', aprobados)"
   ]
  },
  {
   "cell_type": "markdown",
   "id": "1494b04d",
   "metadata": {},
   "source": [
    "## 4. Programación Orientada a Objetos (POO)\n",
    "- Clases, atributos, métodos, `__init__`.\n",
    "- Encapsulamiento (convenciones), herencia y polimorfismo.\n",
    "- Representación (`__repr__`) y métodos especiales."
   ]
  },
  {
   "cell_type": "code",
   "execution_count": null,
   "id": "63b27c5d",
   "metadata": {},
   "outputs": [],
   "source": [
    "class Persona:\n",
    "    def __init__(self, nombre: str, edad: int):\n",
    "        self.nombre = nombre\n",
    "        self.edad = edad\n",
    "    def saludar(self) -> str:\n",
    "        return f'Hola, soy {self.nombre} y tengo {self.edad} años.'\n",
    "\n",
    "print(Persona('Ana', 30).saludar())"
   ]
  },
  {
   "cell_type": "markdown",
   "id": "7a7ebf07",
   "metadata": {},
   "source": [
    "## 5. Buenas prácticas de programación\n",
    "### Docstrings y tipos\n",
    "- Usa docstrings (triple comilla) con Args/Returns/Raises/Examples.\n",
    "- Type hints para mejorar legibilidad y tooling.\n",
    "\n",
    "### Estilo (PEP 8)\n",
    "- `snake_case` para funciones/variables, `PascalCase` para clases.\n",
    "- Longitud de línea razonable, imports ordenados (stdlib, terceros, local).\n",
    "\n",
    "### Rutas con `pathlib`\n",
    "- Evita concatenación de strings; usa `Path` y operadores `/`.\n",
    "\n",
    "### Configuración con \n",
    "- Variables sensibles en `.env` (no subir a git).\n",
    "\n",
    "### Manejo de errores\n",
    "- `try/except/else/finally`.\n",
    "- Excepciones personalizadas para validación de dominio.\n",
    "\n",
    "### Estructura de proyecto\n",
    "- `src/` para código, `tests/` para pruebas, `docs/`, `scripts/`.\n",
    "- `pyproject.toml` para dependencias y herramientas.\n",
    "\n",
    "### Testing\n",
    "- Pytest/unittest, AAA (Arrange-Act-Assert), TDD."
   ]
  },
  {
   "cell_type": "code",
   "execution_count": null,
   "id": "505c8448",
   "metadata": {},
   "outputs": [],
   "source": [
    "from pathlib import Path\n",
    "import json\n",
    "\n",
    "def leer_config(ruta: str) -> dict:\n",
    "    \"\"\"Lee un JSON de configuración con manejo de errores.\n",
    "    Args: ruta (str): ruta del archivo.\n",
    "    Returns: dict\n",
    "    Raises: FileNotFoundError, json.JSONDecodeError\n",
    "    \"\"\"\n",
    "    p = Path(ruta)\n",
    "    with p.open('r', encoding='utf-8') as f:\n",
    "        return json.load(f)\n",
    "\n",
    "# Ejemplo (el archivo puede no existir en este entorno)\n",
    "print('Ejemplo función con docstring y pathlib definida.')"
   ]
  },
  {
   "cell_type": "markdown",
   "id": "9a3f8648",
   "metadata": {},
   "source": [
    "## 6. Análisis de datos con pandas\n",
    "- DataFrames: carga, inspección (`head`, `info`, `describe`).\n",
    "- Limpieza: valores faltantes, tipos, duplicados.\n",
    "- Transformaciones: `assign`, `groupby`, `merge`, `pivot`.\n",
    "- Métricas y KPIs: tasas, medias, percentiles.\n",
    "\n",
    "Ejemplo (resumen inspirado en Titanic simulado):\n",
    "- Tasa de supervivencia por sexo y clase.\n",
    "- Distribuciones (edad, tarifa)."
   ]
  },
  {
   "cell_type": "code",
   "execution_count": null,
   "id": "0ded6ce8",
   "metadata": {},
   "outputs": [],
   "source": [
    "import pandas as pd, numpy as np\n",
    "np.random.seed(42)\n",
    "df = pd.DataFrame({\n",
    "    'Survived': np.random.choice([0,1], 500, p=[0.62,0.38]),\n",
    "    'Pclass': np.random.choice([1,2,3], 500, p=[0.24,0.21,0.55]),\n",
    "    'Sex': np.random.choice(['male','female'], 500, p=[0.65,0.35])\n",
    "})\n",
    "resumen = df.groupby(['Sex','Pclass'])['Survived'].mean().round(2)\n",
    "print(resumen)"
   ]
  },
  {
   "cell_type": "markdown",
   "id": "6b8dab62",
   "metadata": {},
   "source": [
    "## 7. Visualización con matplotlib y seaborn\n",
    "- Gráficos básicos: barras, líneas, histograma, pie (con moderación).\n",
    "- Dashboard con subplots y títulos/leyendas claros.\n",
    "- Seaborn para gráficos estadísticos (boxplot, violin, heatmap, FacetGrid)."
   ]
  },
  {
   "cell_type": "markdown",
   "id": "1b73643d",
   "metadata": {},
   "source": [
    "## 8. Buenas prácticas de visualización\n",
    "### Principios\n",
    "- Claridad > complejidad; una idea principal por gráfico.\n",
    "- Elección del gráfico adecuada al objetivo (comparación, distribución, tendencia, correlación).\n",
    "- Diseño: títulos específicos, ejes etiquetados, leyenda necesaria, formato numérico.\n",
    "- Honestidad: escalas apropiadas y contexto.\n",
    "\n",
    "### Colores y accesibilidad\n",
    "- Paletas: secuencial, divergente, cualitativa.\n",
    "- Evita combinaciones rojo/verde; usa paletas seguras (Viridis, Cividis, Tol, IBM).\n",
    "- No depender solo del color: añadir etiquetas/formas.\n",
    "\n",
    "### Storytelling con datos\n",
    "- Contexto → Conflicto → Resolución; anota y resalta lo clave.\n",
    "\n",
    "### Checklist final\n",
    "- Objetivo claro, audiencia definida, gráfico correcto, accesible, mensaje accionable."
   ]
  },
  {
   "cell_type": "markdown",
   "id": "d5eccf83",
   "metadata": {},
   "source": [
    "## 9. Recursos y próximos pasos\n",
    "- Documentación oficial: Python, pandas, matplotlib, seaborn.\n",
    "- Guías de estilo: PEP 8, Google Python Style.\n",
    "- Práctica: ejercicios incrementales, TDD en funciones puras, microproyectos.\n",
    "- Mejora continua: revisar código con linters/formatters y pruebas automáticas."
   ]
  }
 ],
 "metadata": {
  "language_info": {
   "name": "python"
  }
 },
 "nbformat": 4,
 "nbformat_minor": 5
}
